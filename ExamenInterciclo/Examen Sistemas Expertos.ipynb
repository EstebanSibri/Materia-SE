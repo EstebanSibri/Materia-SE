{
 "cells": [
  {
   "cell_type": "markdown",
   "metadata": {},
   "source": [
    "# UNIVERSIDAD POLITECNICA SALESIANA"
   ]
  },
  {
   "cell_type": "markdown",
   "metadata": {},
   "source": [
    "Nombre: Esteban Sibri.\n",
    "    \n",
    "Enunciado:\n",
    "\n",
    "Se desea modelizar el conocimiento de un experto para el diagnostico de enfermedades de las plantas, \n",
    "basadas en las siguientes reglas.\n",
    "Las plantas requieren diferentes tipos de nutrientes para desarrollarse adecuadamente.\n",
    "Tres de los nutrientes de mayor importancia son el nitrógeno, el fósforo y el potasio.\n",
    "Una deficiencia en alguno de estos nutrientes puede producir varios síntomas.\n",
    "\n",
    "Escribir como reglas en CLIPS las siguientes reglas heurísticas que indican qué deficiencia se está produciendo:\n",
    "Si la planta crece muy poco entonces puede tener una deficiencia de nitrógeno.\n",
    "Si la planta tiene un color amarillo pálido entonces puede tener una deficiencia de nitrógeno.\n",
    "Si las hojas tienen un color pardo rojizo entonces la planta puede tener una deficiencia de nitrógeno.\n",
    "Si la raíz de la planta tiene poco crecimiento entonces puede tener una deficiencia de fósforo.\n",
    "Una planta con tallo fusiforme puede tener una deficiencia de fósforo.\n",
    "Una planta con color púrpura puede tener una deficiencia de fósforo.\n",
    "Un retraso en la madurez de una planta puede deberse a una deficiencia de fósforo.\n",
    "Si los bordes de las hojas aparecen chamuscados, la planta puede tener una deficiencia de potasio.\n",
    "Una planta con los tallos debilitados puede tener una deficiencia de potasio.\n",
    "Una planta con semillas o frutas marchitas puede tener una deficiencia de potasio.\n",
    "\n",
    "La entrada del programa debe ser una descripción de los síntomas de la planta. \n",
    "La salida debe indicar de qué nutriente o nutrientes se ha producido una deficiencia imprimiéndo en pantalla."
   ]
  },
  {
   "cell_type": "code",
   "execution_count": 3,
   "metadata": {},
   "outputs": [
    {
     "name": "stdout",
     "output_type": "stream",
     "text": [
      "BIENVENIDO \n",
      "\n",
      "Ingrese el numero de sintomas \n",
      "2\n",
      "Ingrese los sintomas que presenta la planta \n",
      "las hojas tiene un color pardo rojizo\n",
      "Ingrese los sintomas que presenta la planta \n",
      "la planta tiene tallos debilitados\n",
      "\n",
      "Resultado: La planta tiene deficiencia de nitrogeno\n",
      "Resultado: La planta tiene deficiencia de potasio\n",
      "\n"
     ]
    }
   ],
   "source": [
    "from clips import Environment, Symbol\n",
    "\n",
    "environment = Environment()\n",
    "\n",
    "environment.load('Examen Sistemas Expertos.clp')\n",
    "\n",
    "environment.reset()\n",
    "environment.run()\n",
    "\n",
    "print(\"BIENVENIDO \\n\")\n",
    "a=int(input(\"Ingrese el numero de sintomas \\n\"))\n",
    "\n",
    "i=0\n",
    "o=0\n",
    "u=0\n",
    "\n",
    "for n in range (a):\n",
    "    r1= input('Ingrese los sintomas que presenta la planta \\n')\n",
    "    r1=r1.replace(\" \",\"-\")\n",
    "\n",
    "    environment.assert_string('(respuesta1 '+r1+')')\n",
    "    environment.run()\n",
    "\n",
    "print(\"\")\n",
    "\n",
    "for fact in environment.facts():\n",
    "    if fact.template.name == 'deficiencia-nitrogeno':\n",
    "        print('Resultado: '+'La planta tiene deficiencia de nitrogeno')\n",
    "        i=1\n",
    "    elif fact.template.name == 'deficiencia-fosforo':\n",
    "        print('Resultado: '+'La planta tiene deficiencia de fosforo')\n",
    "        o=1\n",
    "    elif fact.template.name == 'deficiencia-potasio':\n",
    "        print('Resultado: '+'La planta tiene deficiencia de potasio')\n",
    "        u=1\n",
    "    \n",
    "\n",
    "if(u==1 or o==1 or i==1):\n",
    "    print()\n",
    "else:\n",
    "    print(\"No se reconoce los sintomas ingresados, no se pudo diagnosticar\")\n",
    "        "
   ]
  }
 ],
 "metadata": {
  "kernelspec": {
   "display_name": "Python 3",
   "language": "python",
   "name": "python3"
  }
 },
 "nbformat": 4,
 "nbformat_minor": 4
}
